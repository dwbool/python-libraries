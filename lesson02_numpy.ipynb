{
 "cells": [
  {
   "cell_type": "markdown",
   "id": "c7f8ec80",
   "metadata": {},
   "source": [
    "# Task1 - Numpy"
   ]
  },
  {
   "cell_type": "code",
   "execution_count": 1,
   "id": "094e1bb8",
   "metadata": {},
   "outputs": [],
   "source": [
    "import numpy as np\n",
    " "
   ]
  },
  {
   "cell_type": "code",
   "execution_count": 2,
   "id": "788cb5f3",
   "metadata": {},
   "outputs": [],
   "source": [
    "a = np.array([\n",
    "[1, 6],\n",
    "[2, 8],\n",
    "[2, 11],\n",
    "[3, 10],    \n",
    "[1, 7]\n",
    "], dtype=float)\n",
    "\n"
   ]
  },
  {
   "cell_type": "code",
   "execution_count": 3,
   "id": "1a7cc84a",
   "metadata": {},
   "outputs": [],
   "source": [
    "mean_a=np.array([0,0])\n",
    "for i in range(0,np.shape(a)[0]):\n",
    "    mean_a[0] += a[i,0]\n",
    "    mean_a[1] += a[i,1]"
   ]
  },
  {
   "cell_type": "code",
   "execution_count": 4,
   "id": "4b69688f",
   "metadata": {},
   "outputs": [],
   "source": [
    "k = (1.0  / float(np.shape(a)[0]))"
   ]
  },
  {
   "cell_type": "code",
   "execution_count": 5,
   "id": "babfdcc2",
   "metadata": {},
   "outputs": [],
   "source": [
    "mean_a = mean_a * k"
   ]
  },
  {
   "cell_type": "code",
   "execution_count": 6,
   "id": "ac7a41e5",
   "metadata": {},
   "outputs": [],
   "source": [
    "a_centered = a - mean_a"
   ]
  },
  {
   "cell_type": "code",
   "execution_count": 7,
   "id": "1f74fabd",
   "metadata": {},
   "outputs": [
    {
     "data": {
      "text/plain": [
       "array([[-0.8, -2.4],\n",
       "       [ 0.2, -0.4],\n",
       "       [ 0.2,  2.6],\n",
       "       [ 1.2,  1.6],\n",
       "       [-0.8, -1.4]])"
      ]
     },
     "execution_count": 7,
     "metadata": {},
     "output_type": "execute_result"
    }
   ],
   "source": [
    "a_centered"
   ]
  },
  {
   "cell_type": "code",
   "execution_count": 8,
   "id": "f4b1baf5",
   "metadata": {},
   "outputs": [
    {
     "data": {
      "text/plain": [
       "array([1.8, 8.4])"
      ]
     },
     "execution_count": 8,
     "metadata": {},
     "output_type": "execute_result"
    }
   ],
   "source": [
    "mean_a"
   ]
  },
  {
   "cell_type": "code",
   "execution_count": 9,
   "id": "7aa08ddd",
   "metadata": {},
   "outputs": [
    {
     "data": {
      "text/plain": [
       "array([[1.],\n",
       "       [2.],\n",
       "       [2.],\n",
       "       [3.],\n",
       "       [1.]])"
      ]
     },
     "execution_count": 9,
     "metadata": {},
     "output_type": "execute_result"
    }
   ],
   "source": [
    "a[:,0:1]"
   ]
  },
  {
   "cell_type": "code",
   "execution_count": 10,
   "id": "c4a40408",
   "metadata": {},
   "outputs": [
    {
     "data": {
      "text/plain": [
       "array([[ 6.],\n",
       "       [ 8.],\n",
       "       [11.],\n",
       "       [10.],\n",
       "       [ 7.]])"
      ]
     },
     "execution_count": 10,
     "metadata": {},
     "output_type": "execute_result"
    }
   ],
   "source": [
    "a[:,1:2]"
   ]
  },
  {
   "cell_type": "markdown",
   "id": "162c0a8d",
   "metadata": {},
   "source": [
    "# Task 2"
   ]
  },
  {
   "cell_type": "code",
   "execution_count": 11,
   "id": "583ba991",
   "metadata": {},
   "outputs": [],
   "source": [
    "a_centered_col0 = np.zeros((np.shape(a)[0]), dtype=float )\n",
    "a_centered_col1 = np.zeros((np.shape(a)[0]), dtype=float )\n",
    "for i in range(0,np.shape(a)[0]):\n",
    "    a_centered_col0[i] = a_centered[i,0]\n",
    "    a_centered_col1[i] = a_centered[i,1]\n",
    "    \n",
    "  \n",
    "    "
   ]
  },
  {
   "cell_type": "code",
   "execution_count": 12,
   "id": "12a12fda",
   "metadata": {},
   "outputs": [
    {
     "data": {
      "text/plain": [
       "array([-0.8,  0.2,  0.2,  1.2, -0.8])"
      ]
     },
     "execution_count": 12,
     "metadata": {},
     "output_type": "execute_result"
    }
   ],
   "source": [
    "a_centered_col0"
   ]
  },
  {
   "cell_type": "markdown",
   "id": "225914ad",
   "metadata": {},
   "source": [
    "# Task 3"
   ]
  },
  {
   "cell_type": "code",
   "execution_count": 13,
   "id": "13e93293",
   "metadata": {},
   "outputs": [
    {
     "name": "stdout",
     "output_type": "stream",
     "text": [
      "5.3999999999999995\n"
     ]
    }
   ],
   "source": [
    "a_centered_sp  = np.dot(a_centered_col0,a_centered_col1)\n",
    "print(a_centered_sp )"
   ]
  },
  {
   "cell_type": "code",
   "execution_count": 14,
   "id": "a296d465",
   "metadata": {},
   "outputs": [],
   "source": [
    "p = np.shape(a)[0]-1\n",
    "a_cov = a_centered_sp / p\n",
    "\n",
    " "
   ]
  },
  {
   "cell_type": "code",
   "execution_count": 15,
   "id": "b785fd1a",
   "metadata": {},
   "outputs": [
    {
     "name": "stdout",
     "output_type": "stream",
     "text": [
      "method1: covariation =  1.3499999999999999\n"
     ]
    }
   ],
   "source": [
    "print(\"method1: covariation = \",a_cov)"
   ]
  },
  {
   "cell_type": "markdown",
   "id": "2ae889f1",
   "metadata": {},
   "source": [
    "# Task 4"
   ]
  },
  {
   "cell_type": "code",
   "execution_count": 16,
   "id": "2e06901b",
   "metadata": {},
   "outputs": [
    {
     "name": "stdout",
     "output_type": "stream",
     "text": [
      "[[0.7  1.35]\n",
      " [1.35 4.3 ]]\n"
     ]
    }
   ],
   "source": [
    "a_cov2_m = np.cov(a.T)\n",
    "print(a_cov2_m)"
   ]
  },
  {
   "cell_type": "code",
   "execution_count": 17,
   "id": "d285fdf1",
   "metadata": {},
   "outputs": [
    {
     "name": "stdout",
     "output_type": "stream",
     "text": [
      "method2: covariation =  1.3499999999999999\n"
     ]
    }
   ],
   "source": [
    "a_cov2 = a_cov2_m[0,1]\n",
    "print(\"method2: covariation = \",a_cov2)"
   ]
  },
  {
   "cell_type": "code",
   "execution_count": null,
   "id": "b58bc982",
   "metadata": {},
   "outputs": [],
   "source": []
  }
 ],
 "metadata": {
  "kernelspec": {
   "display_name": "Python 3 (ipykernel)",
   "language": "python",
   "name": "python3"
  },
  "language_info": {
   "codemirror_mode": {
    "name": "ipython",
    "version": 3
   },
   "file_extension": ".py",
   "mimetype": "text/x-python",
   "name": "python",
   "nbconvert_exporter": "python",
   "pygments_lexer": "ipython3",
   "version": "3.9.12"
  }
 },
 "nbformat": 4,
 "nbformat_minor": 5
}
