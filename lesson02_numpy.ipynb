{
 "cells": [
  {
   "cell_type": "markdown",
   "id": "b4f95f52",
   "metadata": {},
   "source": [
    "# Task1 - Numpy"
   ]
  },
  {
   "cell_type": "code",
   "execution_count": 1,
   "id": "8092b2b0",
   "metadata": {},
   "outputs": [],
   "source": [
    "import numpy as np\n",
    " "
   ]
  },
  {
   "cell_type": "code",
   "execution_count": 2,
   "id": "1eead334",
   "metadata": {},
   "outputs": [],
   "source": [
    "a = np.array([\n",
    "[1, 6],\n",
    "[2, 8],\n",
    "[2, 11],\n",
    "[3, 10],    \n",
    "[1, 7]\n",
    "], dtype=float)\n"
   ]
  },
  {
   "cell_type": "code",
   "execution_count": 3,
   "id": "98cb2aad",
   "metadata": {},
   "outputs": [],
   "source": [
    "mean_a=np.array([0,0])\n",
    "for i in range(0,np.shape(a)[0]):\n",
    "    mean_a[0] += a[i,0]\n",
    "    mean_a[1] += a[i,1]"
   ]
  },
  {
   "cell_type": "code",
   "execution_count": 4,
   "id": "c5045cae",
   "metadata": {},
   "outputs": [],
   "source": [
    "k = (1.0  / float(np.shape(a)[0]))"
   ]
  },
  {
   "cell_type": "code",
   "execution_count": 5,
   "id": "c4dd5a7b",
   "metadata": {},
   "outputs": [],
   "source": [
    "mean_a = mean_a * k"
   ]
  },
  {
   "cell_type": "code",
   "execution_count": 6,
   "id": "2c80e2b7",
   "metadata": {},
   "outputs": [],
   "source": [
    "a_centered = a - mean_a"
   ]
  },
  {
   "cell_type": "code",
   "execution_count": 7,
   "id": "d7d697e2",
   "metadata": {},
   "outputs": [
    {
     "data": {
      "text/plain": [
       "array([[-0.8, -2.4],\n",
       "       [ 0.2, -0.4],\n",
       "       [ 0.2,  2.6],\n",
       "       [ 1.2,  1.6],\n",
       "       [-0.8, -1.4]])"
      ]
     },
     "execution_count": 7,
     "metadata": {},
     "output_type": "execute_result"
    }
   ],
   "source": [
    "a_centered"
   ]
  },
  {
   "cell_type": "code",
   "execution_count": 8,
   "id": "47caf1f5",
   "metadata": {},
   "outputs": [
    {
     "data": {
      "text/plain": [
       "array([1.8, 8.4])"
      ]
     },
     "execution_count": 8,
     "metadata": {},
     "output_type": "execute_result"
    }
   ],
   "source": [
    "mean_a"
   ]
  },
  {
   "cell_type": "code",
   "execution_count": 9,
   "id": "5b5a9104",
   "metadata": {},
   "outputs": [
    {
     "data": {
      "text/plain": [
       "array([[1.],\n",
       "       [2.],\n",
       "       [2.],\n",
       "       [3.],\n",
       "       [1.]])"
      ]
     },
     "execution_count": 9,
     "metadata": {},
     "output_type": "execute_result"
    }
   ],
   "source": [
    "a[:,0:1]"
   ]
  },
  {
   "cell_type": "code",
   "execution_count": 10,
   "id": "c0b60ae3",
   "metadata": {},
   "outputs": [
    {
     "data": {
      "text/plain": [
       "array([[ 6.],\n",
       "       [ 8.],\n",
       "       [11.],\n",
       "       [10.],\n",
       "       [ 7.]])"
      ]
     },
     "execution_count": 10,
     "metadata": {},
     "output_type": "execute_result"
    }
   ],
   "source": [
    "a[:,1:2]"
   ]
  },
  {
   "cell_type": "markdown",
   "id": "03ce47bf",
   "metadata": {},
   "source": [
    "# Task 2"
   ]
  },
  {
   "cell_type": "code",
   "execution_count": 11,
   "id": "9387cff7",
   "metadata": {},
   "outputs": [],
   "source": [
    "a_centered_col0 = np.zeros((np.shape(a)[0]), dtype=float )\n",
    "a_centered_col1 = np.zeros((np.shape(a)[0]), dtype=float )\n",
    "for i in range(0,np.shape(a)[0]):\n",
    "    a_centered_col0[i] = a_centered[i,0]\n",
    "    a_centered_col1[i] = a_centered[i,1]\n",
    "  \n",
    "    "
   ]
  },
  {
   "cell_type": "code",
   "execution_count": 12,
   "id": "bdee5dd8",
   "metadata": {},
   "outputs": [
    {
     "data": {
      "text/plain": [
       "array([-0.8,  0.2,  0.2,  1.2, -0.8])"
      ]
     },
     "execution_count": 12,
     "metadata": {},
     "output_type": "execute_result"
    }
   ],
   "source": [
    "a_centered_col0"
   ]
  },
  {
   "cell_type": "markdown",
   "id": "07632a92",
   "metadata": {},
   "source": [
    "# Task 3"
   ]
  },
  {
   "cell_type": "code",
   "execution_count": 13,
   "id": "d97d6d9b",
   "metadata": {},
   "outputs": [
    {
     "name": "stdout",
     "output_type": "stream",
     "text": [
      "5.3999999999999995\n"
     ]
    }
   ],
   "source": [
    "a_centered_sp  = np.dot(a_centered_col0,a_centered_col1)\n",
    "print(a_centered_sp )"
   ]
  },
  {
   "cell_type": "code",
   "execution_count": 14,
   "id": "8597f704",
   "metadata": {},
   "outputs": [],
   "source": [
    "p = np.shape(a)[0]-1\n",
    "a_cov = a_centered_sp / p\n",
    "\n",
    " "
   ]
  },
  {
   "cell_type": "code",
   "execution_count": 15,
   "id": "4dc49efa",
   "metadata": {},
   "outputs": [
    {
     "name": "stdout",
     "output_type": "stream",
     "text": [
      "method1: covariation =  1.3499999999999999\n"
     ]
    }
   ],
   "source": [
    "print(\"method1: covariation = \",a_cov)"
   ]
  },
  {
   "cell_type": "markdown",
   "id": "21be6d44",
   "metadata": {},
   "source": [
    "# Task 4"
   ]
  },
  {
   "cell_type": "code",
   "execution_count": 16,
   "id": "5f08e8f9",
   "metadata": {},
   "outputs": [
    {
     "name": "stdout",
     "output_type": "stream",
     "text": [
      "[[0.7  1.35]\n",
      " [1.35 4.3 ]]\n"
     ]
    }
   ],
   "source": [
    "a_cov2_m = np.cov(a.T)\n",
    "print(a_cov2_m)"
   ]
  },
  {
   "cell_type": "code",
   "execution_count": 17,
   "id": "ca6fa330",
   "metadata": {},
   "outputs": [
    {
     "name": "stdout",
     "output_type": "stream",
     "text": [
      "method2: covariation =  1.3499999999999999\n"
     ]
    }
   ],
   "source": [
    "a_cov2 = a_cov2_m[0,1]\n",
    "print(\"method2: covariation = \",a_cov2)"
   ]
  },
  {
   "cell_type": "code",
   "execution_count": null,
   "id": "7a6c05ce",
   "metadata": {},
   "outputs": [],
   "source": []
  }
 ],
 "metadata": {
  "kernelspec": {
   "display_name": "Python 3 (ipykernel)",
   "language": "python",
   "name": "python3"
  },
  "language_info": {
   "codemirror_mode": {
    "name": "ipython",
    "version": 3
   },
   "file_extension": ".py",
   "mimetype": "text/x-python",
   "name": "python",
   "nbconvert_exporter": "python",
   "pygments_lexer": "ipython3",
   "version": "3.9.12"
  }
 },
 "nbformat": 4,
 "nbformat_minor": 5
}
