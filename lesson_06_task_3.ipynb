{
 "cells": [
  {
   "cell_type": "markdown",
   "id": "7127188e",
   "metadata": {},
   "source": [
    "# Lesson 6 - Task 3"
   ]
  },
  {
   "cell_type": "markdown",
   "id": "bb53becd",
   "metadata": {},
   "source": [
    "## Earlier Tasks 1 and 2 code to use in consequent Task 3 calculations"
   ]
  },
  {
   "cell_type": "code",
   "execution_count": 1,
   "id": "9d94aee4",
   "metadata": {},
   "outputs": [],
   "source": [
    "\n",
    "import numpy as np\n",
    "import pandas as pd\n",
    "\n",
    "from sklearn.datasets import load_boston\n",
    "from sklearn.model_selection import train_test_split\n",
    "from sklearn.linear_model import LinearRegression\n",
    "\n",
    "%matplotlib inline\n",
    "%config InlineBackend.figure_format = 'svg'\n",
    "\n"
   ]
  },
  {
   "cell_type": "code",
   "execution_count": 2,
   "id": "bd4b6e65",
   "metadata": {},
   "outputs": [
    {
     "name": "stderr",
     "output_type": "stream",
     "text": [
      "C:\\ProgramData\\Anaconda3\\lib\\site-packages\\sklearn\\utils\\deprecation.py:87: FutureWarning: Function load_boston is deprecated; `load_boston` is deprecated in 1.0 and will be removed in 1.2.\n",
      "\n",
      "    The Boston housing prices dataset has an ethical problem. You can refer to\n",
      "    the documentation of this function for further details.\n",
      "\n",
      "    The scikit-learn maintainers therefore strongly discourage the use of this\n",
      "    dataset unless the purpose of the code is to study and educate about\n",
      "    ethical issues in data science and machine learning.\n",
      "\n",
      "    In this special case, you can fetch the dataset from the original\n",
      "    source::\n",
      "\n",
      "        import pandas as pd\n",
      "        import numpy as np\n",
      "\n",
      "\n",
      "        data_url = \"http://lib.stat.cmu.edu/datasets/boston\"\n",
      "        raw_df = pd.read_csv(data_url, sep=\"\\s+\", skiprows=22, header=None)\n",
      "        data = np.hstack([raw_df.values[::2, :], raw_df.values[1::2, :2]])\n",
      "        target = raw_df.values[1::2, 2]\n",
      "\n",
      "    Alternative datasets include the California housing dataset (i.e.\n",
      "    :func:`~sklearn.datasets.fetch_california_housing`) and the Ames housing\n",
      "    dataset. You can load the datasets as follows::\n",
      "\n",
      "        from sklearn.datasets import fetch_california_housing\n",
      "        housing = fetch_california_housing()\n",
      "\n",
      "    for the California housing dataset and::\n",
      "\n",
      "        from sklearn.datasets import fetch_openml\n",
      "        housing = fetch_openml(name=\"house_prices\", as_frame=True)\n",
      "\n",
      "    for the Ames housing dataset.\n",
      "    \n",
      "  warnings.warn(msg, category=FutureWarning)\n"
     ]
    }
   ],
   "source": [
    "\n",
    "boston = load_boston()\n"
   ]
  },
  {
   "cell_type": "code",
   "execution_count": 3,
   "id": "84e6dbd1",
   "metadata": {},
   "outputs": [],
   "source": [
    "# boston"
   ]
  },
  {
   "cell_type": "code",
   "execution_count": 4,
   "id": "3041b3fb",
   "metadata": {},
   "outputs": [],
   "source": [
    "# boston.keys()"
   ]
  },
  {
   "cell_type": "code",
   "execution_count": 5,
   "id": "554893ec",
   "metadata": {},
   "outputs": [],
   "source": [
    "data = boston.data\n",
    "\n",
    "target = boston.target"
   ]
  },
  {
   "cell_type": "code",
   "execution_count": 6,
   "id": "05f6609b",
   "metadata": {},
   "outputs": [],
   "source": [
    "# data"
   ]
  },
  {
   "cell_type": "code",
   "execution_count": 7,
   "id": "8f6cdab4",
   "metadata": {},
   "outputs": [],
   "source": [
    "feature_names = boston.feature_names"
   ]
  },
  {
   "cell_type": "code",
   "execution_count": 8,
   "id": "965a08df",
   "metadata": {},
   "outputs": [],
   "source": [
    "X = pd.DataFrame(data, columns=feature_names)"
   ]
  },
  {
   "cell_type": "code",
   "execution_count": 9,
   "id": "f629aacb",
   "metadata": {},
   "outputs": [],
   "source": [
    "y = pd.DataFrame(target, columns = ['price'] )"
   ]
  },
  {
   "cell_type": "code",
   "execution_count": null,
   "id": "dbe748f5",
   "metadata": {},
   "outputs": [],
   "source": []
  },
  {
   "cell_type": "code",
   "execution_count": 10,
   "id": "a6dbebf5",
   "metadata": {},
   "outputs": [],
   "source": [
    "X_train, X_test, y_train, y_test = train_test_split(X, y, test_size=0.3, random_state=42)"
   ]
  },
  {
   "cell_type": "code",
   "execution_count": 11,
   "id": "24c22a3d",
   "metadata": {},
   "outputs": [],
   "source": [
    "# X_test"
   ]
  },
  {
   "cell_type": "code",
   "execution_count": 12,
   "id": "4df85a3d",
   "metadata": {},
   "outputs": [],
   "source": [
    "from sklearn.linear_model import LinearRegression"
   ]
  },
  {
   "cell_type": "code",
   "execution_count": 13,
   "id": "2e11ae51",
   "metadata": {},
   "outputs": [
    {
     "data": {
      "text/plain": [
       "LinearRegression()"
      ]
     },
     "execution_count": 13,
     "metadata": {},
     "output_type": "execute_result"
    }
   ],
   "source": [
    "import numpy as np\n",
    "from sklearn.linear_model import LinearRegression\n",
    "X = np.array([[1, 1], [1, 2], [2, 2], [2, 3]])\n",
    "# y = 1 * x_0 + 2 * x_1 + 3\n",
    "y = np.dot(X, np.array([1, 2])) + 3\n",
    "reg = LinearRegression().fit(X, y)\n",
    "reg.score(X, y)\n",
    "\n",
    "lr = LinearRegression().fit( X_train, y_train)\n",
    "lr"
   ]
  },
  {
   "cell_type": "code",
   "execution_count": 14,
   "id": "338a526f",
   "metadata": {},
   "outputs": [],
   "source": [
    "y_pred = lr.predict(X_test)"
   ]
  },
  {
   "cell_type": "code",
   "execution_count": 15,
   "id": "53cb8ba3",
   "metadata": {},
   "outputs": [],
   "source": [
    "# y_pred"
   ]
  },
  {
   "cell_type": "code",
   "execution_count": 16,
   "id": "36e62faa",
   "metadata": {},
   "outputs": [],
   "source": [
    "check_test = pd.DataFrame({'y_test': y_test['price'], \n",
    "                           'y_pred': y_pred.flatten() },\n",
    "                         columns=['y_test','y_pred'])"
   ]
  },
  {
   "cell_type": "code",
   "execution_count": 17,
   "id": "dd00a767",
   "metadata": {},
   "outputs": [],
   "source": [
    "#check_test.head(10)"
   ]
  },
  {
   "cell_type": "code",
   "execution_count": 18,
   "id": "c4e7508c",
   "metadata": {},
   "outputs": [
    {
     "data": {
      "text/plain": [
       "0.7112260057484878"
      ]
     },
     "execution_count": 18,
     "metadata": {},
     "output_type": "execute_result"
    }
   ],
   "source": [
    "from sklearn.metrics import r2_score\n",
    "\n",
    "r2_lin = r2_score(y_test, y_pred)\n",
    "r2_lin"
   ]
  },
  {
   "cell_type": "code",
   "execution_count": 19,
   "id": "dce02753",
   "metadata": {},
   "outputs": [],
   "source": [
    "#task 2"
   ]
  },
  {
   "cell_type": "code",
   "execution_count": 20,
   "id": "f5f44edb",
   "metadata": {},
   "outputs": [],
   "source": [
    "from sklearn.ensemble import RandomForestRegressor "
   ]
  },
  {
   "cell_type": "code",
   "execution_count": 21,
   "id": "be2b6c2c",
   "metadata": {},
   "outputs": [],
   "source": [
    "model  = RandomForestRegressor(n_estimators =1000, max_features = 12, random_state = 42 )\n"
   ]
  },
  {
   "cell_type": "code",
   "execution_count": 22,
   "id": "f8e7d3c7",
   "metadata": {},
   "outputs": [],
   "source": [
    "# y_train.values[:, 0]\n"
   ]
  },
  {
   "cell_type": "code",
   "execution_count": 23,
   "id": "a90e954d",
   "metadata": {},
   "outputs": [
    {
     "data": {
      "text/plain": [
       "RandomForestRegressor(max_features=12, n_estimators=1000, random_state=42)"
      ]
     },
     "execution_count": 23,
     "metadata": {},
     "output_type": "execute_result"
    }
   ],
   "source": [
    "model.fit(X_train, y_train.values[:, 0])"
   ]
  },
  {
   "cell_type": "code",
   "execution_count": 24,
   "id": "53bd618d",
   "metadata": {},
   "outputs": [],
   "source": [
    "y_pred2 = model.predict(X_test)"
   ]
  },
  {
   "cell_type": "code",
   "execution_count": 25,
   "id": "d7117cd5",
   "metadata": {},
   "outputs": [],
   "source": [
    "# y_pred2"
   ]
  },
  {
   "cell_type": "code",
   "execution_count": 26,
   "id": "f882347e",
   "metadata": {},
   "outputs": [
    {
     "data": {
      "text/plain": [
       "0.876228022524578"
      ]
     },
     "execution_count": 26,
     "metadata": {},
     "output_type": "execute_result"
    }
   ],
   "source": [
    "r2_tree = r2_score(y_test, y_pred2)\n",
    "r2_tree"
   ]
  },
  {
   "cell_type": "code",
   "execution_count": 27,
   "id": "70ee808f",
   "metadata": {},
   "outputs": [
    {
     "data": {
      "text/plain": [
       "False"
      ]
     },
     "execution_count": 27,
     "metadata": {},
     "output_type": "execute_result"
    }
   ],
   "source": [
    "r2_tree == r2_lin"
   ]
  },
  {
   "cell_type": "code",
   "execution_count": 28,
   "id": "f1560d2f",
   "metadata": {},
   "outputs": [
    {
     "data": {
      "text/plain": [
       "array([28.64896005])"
      ]
     },
     "execution_count": 28,
     "metadata": {},
     "output_type": "execute_result"
    }
   ],
   "source": [
    "y_pred[0]"
   ]
  },
  {
   "cell_type": "code",
   "execution_count": 29,
   "id": "64b4ae43",
   "metadata": {},
   "outputs": [
    {
     "data": {
      "text/plain": [
       "22.819899999999905"
      ]
     },
     "execution_count": 29,
     "metadata": {},
     "output_type": "execute_result"
    }
   ],
   "source": [
    "y_pred2[0]"
   ]
  },
  {
   "cell_type": "code",
   "execution_count": 30,
   "id": "0dfa14e5",
   "metadata": {},
   "outputs": [
    {
     "name": "stdout",
     "output_type": "stream",
     "text": [
      "RandomForestRegressor works better than LinearRegression\n"
     ]
    }
   ],
   "source": [
    "if r2_tree == r2_lin:\n",
    "    print(\"RandomForestRegressor and LinearRegression work equally well\")\n",
    "elif r2_tree > r2_lin:\n",
    "    print(\"RandomForestRegressor works better than LinearRegression\")\n",
    "else:\n",
    "    print(\"LinearRegression works better than RandomForestRegressor\")\n",
    "\n",
    "    "
   ]
  },
  {
   "cell_type": "markdown",
   "id": "de5472ae",
   "metadata": {},
   "source": [
    "# Task 3"
   ]
  },
  {
   "cell_type": "markdown",
   "id": "9ac93698",
   "metadata": {},
   "source": [
    "## Feature Importances and names output"
   ]
  },
  {
   "cell_type": "code",
   "execution_count": 31,
   "id": "423c2590",
   "metadata": {},
   "outputs": [
    {
     "data": {
      "text/plain": [
       "array([0.03320554, 0.0016986 , 0.0073623 , 0.00124517, 0.01811565,\n",
       "       0.39549044, 0.01532505, 0.06339276, 0.00516123, 0.0124675 ,\n",
       "       0.01884221, 0.01245306, 0.41524049])"
      ]
     },
     "execution_count": 31,
     "metadata": {},
     "output_type": "execute_result"
    }
   ],
   "source": [
    "model.feature_importances_"
   ]
  },
  {
   "cell_type": "code",
   "execution_count": 32,
   "id": "62100c25",
   "metadata": {},
   "outputs": [
    {
     "data": {
      "text/plain": [
       "array(['CRIM', 'ZN', 'INDUS', 'CHAS', 'NOX', 'RM', 'AGE', 'DIS', 'RAD',\n",
       "       'TAX', 'PTRATIO', 'B', 'LSTAT'], dtype=object)"
      ]
     },
     "execution_count": 32,
     "metadata": {},
     "output_type": "execute_result"
    }
   ],
   "source": [
    "model.feature_names_in_"
   ]
  },
  {
   "cell_type": "markdown",
   "id": "05f43047",
   "metadata": {},
   "source": [
    "## Calculating the sum of feature importances and finding 2 highest values"
   ]
  },
  {
   "cell_type": "code",
   "execution_count": 33,
   "id": "e1999d97",
   "metadata": {},
   "outputs": [
    {
     "name": "stdout",
     "output_type": "stream",
     "text": [
      "sum of feature factors is 1.000000\n"
     ]
    }
   ],
   "source": [
    "sum = 0\n",
    "imax = 0\n",
    "imax2 = 0\n",
    "imin = 0\n",
    "\n",
    "# sum of factors and minimum\n",
    "for i in range(0,len(model.feature_importances_)):    \n",
    "    sum += model.feature_importances_[i]\n",
    "    if model.feature_importances_[i]<model.feature_importances_[imin]:\n",
    "        imin = i\n",
    "        \n",
    "imax = imin\n",
    "imax2 = imin\n",
    "\n",
    "# 1st and 2nd most significant features\n",
    "for i in range(0,len(model.feature_importances_)):    \n",
    "    if model.feature_importances_[i]>model.feature_importances_[imax]:\n",
    "        imax2 = imax\n",
    "        imax = i\n",
    "        \n",
    "print( \"sum of feature factors is %f\" % (sum) )  "
   ]
  },
  {
   "cell_type": "code",
   "execution_count": 34,
   "id": "514cef7b",
   "metadata": {},
   "outputs": [
    {
     "data": {
      "text/plain": [
       "12"
      ]
     },
     "execution_count": 34,
     "metadata": {},
     "output_type": "execute_result"
    }
   ],
   "source": [
    "imax"
   ]
  },
  {
   "cell_type": "code",
   "execution_count": 35,
   "id": "e72f1bc4",
   "metadata": {},
   "outputs": [
    {
     "data": {
      "text/plain": [
       "5"
      ]
     },
     "execution_count": 35,
     "metadata": {},
     "output_type": "execute_result"
    }
   ],
   "source": [
    "imax2"
   ]
  },
  {
   "cell_type": "markdown",
   "id": "419da472",
   "metadata": {},
   "source": [
    "## The most significant feature"
   ]
  },
  {
   "cell_type": "code",
   "execution_count": 36,
   "id": "c1b116a3",
   "metadata": {},
   "outputs": [
    {
     "name": "stdout",
     "output_type": "stream",
     "text": [
      "The 1st most significant feature with index = 12 is 'LSTAT' = 0.415240\n"
     ]
    }
   ],
   "source": [
    "print( \"The 1st most significant feature with index = %d is '%s' = %f\" % (imax, model.feature_names_in_[imax] , model.feature_importances_[imax]) )\n"
   ]
  },
  {
   "cell_type": "markdown",
   "id": "e6641330",
   "metadata": {},
   "source": [
    "# The second most significant feature"
   ]
  },
  {
   "cell_type": "code",
   "execution_count": 37,
   "id": "dd53c5cb",
   "metadata": {},
   "outputs": [
    {
     "name": "stdout",
     "output_type": "stream",
     "text": [
      "The 2nd most significant feature with index = 5 is 'RM' = 0.395490\n"
     ]
    }
   ],
   "source": [
    "print( \"The 2nd most significant feature with index = %d is '%s' = %f\" % (imax2, model.feature_names_in_[imax2] , model.feature_importances_[imax2]) )"
   ]
  },
  {
   "cell_type": "markdown",
   "id": "2bdc6b70",
   "metadata": {},
   "source": [
    "## Sorting array of feature values"
   ]
  },
  {
   "cell_type": "code",
   "execution_count": 38,
   "id": "07536c84",
   "metadata": {},
   "outputs": [
    {
     "data": {
      "text/plain": [
       "array([0.03320554, 0.0016986 , 0.0073623 , 0.00124517, 0.01811565,\n",
       "       0.39549044, 0.01532505, 0.06339276, 0.00516123, 0.0124675 ,\n",
       "       0.01884221, 0.01245306, 0.41524049])"
      ]
     },
     "execution_count": 38,
     "metadata": {},
     "output_type": "execute_result"
    }
   ],
   "source": [
    "imp_copy = model.feature_importances_[:]\n",
    "imp_copy"
   ]
  },
  {
   "cell_type": "code",
   "execution_count": 39,
   "id": "00970642",
   "metadata": {},
   "outputs": [],
   "source": [
    " \n",
    "imp_copy = sorted(imp_copy, reverse=1)"
   ]
  },
  {
   "cell_type": "code",
   "execution_count": 40,
   "id": "0c28ce79",
   "metadata": {},
   "outputs": [
    {
     "data": {
      "text/plain": [
       "[0.4152404896167567,\n",
       " 0.39549043883372675,\n",
       " 0.06339276450950124,\n",
       " 0.033205540865315304,\n",
       " 0.018842213486265375,\n",
       " 0.018115650533400928,\n",
       " 0.015325046453109845,\n",
       " 0.012467502971042222,\n",
       " 0.012453055836697662,\n",
       " 0.00736230094389105,\n",
       " 0.005161232038500045,\n",
       " 0.001698595223626342,\n",
       " 0.0012451686881666047]"
      ]
     },
     "execution_count": 40,
     "metadata": {},
     "output_type": "execute_result"
    }
   ],
   "source": [
    "imp_copy"
   ]
  },
  {
   "cell_type": "code",
   "execution_count": null,
   "id": "09ff2687",
   "metadata": {},
   "outputs": [],
   "source": []
  },
  {
   "cell_type": "code",
   "execution_count": null,
   "id": "66d00dfe",
   "metadata": {},
   "outputs": [],
   "source": []
  },
  {
   "cell_type": "code",
   "execution_count": null,
   "id": "dd2db42b",
   "metadata": {},
   "outputs": [],
   "source": []
  }
 ],
 "metadata": {
  "kernelspec": {
   "display_name": "Python 3 (ipykernel)",
   "language": "python",
   "name": "python3"
  },
  "language_info": {
   "codemirror_mode": {
    "name": "ipython",
    "version": 3
   },
   "file_extension": ".py",
   "mimetype": "text/x-python",
   "name": "python",
   "nbconvert_exporter": "python",
   "pygments_lexer": "ipython3",
   "version": "3.9.12"
  }
 },
 "nbformat": 4,
 "nbformat_minor": 5
}
